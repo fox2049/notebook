{
 "cells": [
  {
   "cell_type": "code",
   "execution_count": 2,
   "metadata": {},
   "outputs": [],
   "source": [
    "import numpy as np"
   ]
  },
  {
   "cell_type": "code",
   "execution_count": 3,
   "metadata": {},
   "outputs": [],
   "source": [
    "streetlights = np.array([[1, 0, 1],\n",
    "                         [0, 1, 1],\n",
    "                         [0, 0, 1],\n",
    "                         [1, 1, 1],\n",
    "                         [0, 1, 1],\n",
    "                         [1, 0, 1]])"
   ]
  },
  {
   "cell_type": "code",
   "execution_count": 4,
   "metadata": {},
   "outputs": [],
   "source": [
    "walk_va_stop = np.array([[0],\n",
    "                        [1],\n",
    "                        [0],\n",
    "                        [1],\n",
    "                        [1],\n",
    "                        [0]])"
   ]
  },
  {
   "cell_type": "code",
   "execution_count": 5,
   "metadata": {},
   "outputs": [],
   "source": [
    "weight = np.array([0.5, 0.48, -0.7])"
   ]
  },
  {
   "cell_type": "code",
   "execution_count": 6,
   "metadata": {},
   "outputs": [],
   "source": [
    "alpha = 0.1"
   ]
  },
  {
   "cell_type": "code",
   "execution_count": 7,
   "metadata": {},
   "outputs": [],
   "source": [
    "walk_vs_stop = np.array([0, 1, 0, 1, 1, 0])"
   ]
  },
  {
   "cell_type": "code",
   "execution_count": 9,
   "metadata": {},
   "outputs": [],
   "source": [
    "input = streetlights[0]\n",
    "goal_prediction = walk_vs_stop[0]"
   ]
  },
  {
   "cell_type": "code",
   "execution_count": 17,
   "metadata": {},
   "outputs": [
    {
     "name": "stdout",
     "output_type": "stream",
     "text": [
      "Error:1.0830740959956181e-15 Prediction:-3.291009109673837e-08\n",
      "Error:6.93167419098793e-16 Prediction:-2.6328072832981775e-08\n",
      "Error:4.436271463525054e-16 Prediction:-2.10624582219765e-08\n",
      "Error:2.839213721690258e-16 Prediction:-1.6849966533172278e-08\n",
      "Error:1.8170967579365226e-16 Prediction:-1.347997313771998e-08\n",
      "Error:1.1629419442355685e-16 Prediction:-1.0783978598993826e-08\n",
      "Error:7.442828596357192e-17 Prediction:-8.627182968012903e-09\n",
      "Error:4.76341017906896e-17 Prediction:-6.9017462855924805e-09\n",
      "Error:3.048582612683849e-17 Prediction:-5.521397117291826e-09\n",
      "Error:1.9510929505814364e-17 Prediction:-4.417117782651303e-09\n"
     ]
    }
   ],
   "source": [
    "for interation in range(10):\n",
    "    prediction = input.dot(weight)\n",
    "    delta = prediction - goal_prediction\n",
    "    error = delta ** 2\n",
    "    weight = weight - (alpha * (input * delta))\n",
    "    \n",
    "    print(\"Error:\" + str(error) + \" Prediction:\" + str(prediction))"
   ]
  },
  {
   "cell_type": "code",
   "execution_count": 13,
   "metadata": {},
   "outputs": [
    {
     "name": "stdout",
     "output_type": "stream",
     "text": [
      "[1 0 1]\n"
     ]
    }
   ],
   "source": [
    "print(streetlights[0])"
   ]
  },
  {
   "cell_type": "code",
   "execution_count": 14,
   "metadata": {},
   "outputs": [
    {
     "name": "stdout",
     "output_type": "stream",
     "text": [
      "0\n"
     ]
    }
   ],
   "source": [
    "print(walk_vs_stop[0])"
   ]
  },
  {
   "cell_type": "code",
   "execution_count": 19,
   "metadata": {},
   "outputs": [
    {
     "name": "stdout",
     "output_type": "stream",
     "text": [
      "6\n"
     ]
    }
   ],
   "source": [
    "print(len(walk_vs_stop))"
   ]
  },
  {
   "cell_type": "code",
   "execution_count": 24,
   "metadata": {},
   "outputs": [
    {
     "name": "stdout",
     "output_type": "stream",
     "text": [
      "prediction: -0.0019307298664941047\n",
      "prediction: 0.9981968840915837\n",
      "prediction: -0.014305232835570473\n",
      "prediction: 1.012928991090041\n",
      "prediction: 0.997402232338816\n",
      "prediction: -0.0022597704706863973\n",
      "**********Error: 0.0003906324012844786\n",
      "prediction: -0.0018078163765491186\n",
      "prediction: 0.9983285445557762\n",
      "prediction: -0.013333927665753195\n",
      "prediction: 1.0120510485201326\n",
      "prediction: 0.9975860187071698\n",
      "prediction: -0.0021145263649850997\n",
      "**********Error: 0.00033938188821382463\n",
      "prediction: -0.0016916210919880811\n",
      "prediction: 0.9984494297114331\n",
      "prediction: -0.01242856984735411\n",
      "prediction: 1.0112327307565023\n",
      "prediction: 0.9977558546025814\n",
      "prediction: -0.001977514471556977\n",
      "**********Error: 0.00029485619088725064\n",
      "prediction: -0.0015820115772455824\n",
      "prediction: 0.9985606362869454\n",
      "prediction: -0.011584682422341355\n",
      "prediction: 1.0104699868036406\n",
      "prediction: 0.9979129799110622\n",
      "prediction: -0.0018485000000912164\n",
      "**********Error: 0.00025617262412587857\n",
      "prediction: -0.0014788000000729735\n",
      "prediction: 0.9986631139288663\n",
      "prediction: -0.010798092244447716\n",
      "prediction: 1.0097590412190405\n",
      "prediction: 0.9980584921237298\n",
      "prediction: -0.0017271996246813089\n",
      "**********Error: 0.00022256446681905863\n",
      "prediction: -0.0013817596997450464\n",
      "prediction: 0.9987576896314264\n",
      "prediction: -0.010064909384979975\n",
      "prediction: 1.0090963753056805\n",
      "prediction: 0.998193367582503\n",
      "prediction: -0.001613297603827087\n",
      "**********Error: 0.00019336568939982274\n",
      "prediction: -0.0012906380830616706\n",
      "prediction: 0.9988450876346914\n",
      "prediction: -0.009381507930080591\n",
      "prediction: 1.0084787096009233\n",
      "prediction: 0.9983184789805766\n",
      "prediction: -0.0015064582551527397\n",
      "**********Error: 0.00016799770618522715\n",
      "prediction: -0.001205166604122192\n",
      "prediction: 0.9989259456703887\n",
      "prediction: -0.008744508076333904\n",
      "prediction: 1.0079029875699417\n",
      "prediction: 0.998434609829956\n",
      "prediction: -0.0014063355396871724\n",
      "**********Error: 0.00014595787930902723\n",
      "prediction: -0.0011250684317497374\n",
      "prediction: 0.9990008282611086\n",
      "prediction: -0.008150759437657449\n",
      "prediction: 1.0073663604187992\n",
      "prediction: 0.9985424664688928\n",
      "prediction: -0.0013125803583940287\n",
      "**********Error: 0.00012680953956167678\n",
      "prediction: -0.0010500642867152226\n",
      "prediction: 0.999070237639625\n",
      "prediction: -0.007597325482112479\n",
      "prediction: 1.006866172948689\n",
      "prediction: 0.9986426880701734\n",
      "prediction: -0.001224846041878564\n",
      "**********Error: 0.00011017332199662369\n",
      "prediction: -0.0009798768335028511\n",
      "prediction: 0.9991346227436768\n",
      "prediction: -0.00708146902261701\n",
      "prediction: 1.0063999503786503\n",
      "prediction: 0.9987358550214731\n",
      "prediction: -0.0011427924167856252\n",
      "**********Error: 9.571964180666449e-05\n",
      "prediction: -0.0009142339334284998\n",
      "prediction: 0.9991943866522\n",
      "prediction: -0.006600638690566229\n",
      "prediction: 1.0059653860694202\n",
      "prediction: 0.9988224959769326\n",
      "prediction: -0.0010660887544834755\n",
      "**********Error: 8.31621595885943e-05\n",
      "prediction: -0.00085287100358678\n",
      "prediction: 0.9992498927573531\n",
      "prediction: -0.0061524563260731725\n",
      "prediction: 1.0055603300859581\n",
      "prediction: 0.998903093821298\n",
      "prediction: -0.0009944158453188481\n",
      "**********Error: 7.225210537157514e-05\n",
      "prediction: -0.0007955326762550778\n",
      "prediction: 0.9993014699091958\n",
      "prediction: -0.005734705222953657\n",
      "prediction: 1.005182778540682\n",
      "prediction: 0.9989780907415154\n",
      "prediction: -0.0009274673919162056\n",
      "**********Error: 6.277334821831803e-05\n",
      "prediction: -0.0007419739135329645\n",
      "prediction: 0.9993494167237574\n",
      "prediction: -0.005345319170708856\n",
      "prediction: 1.0048308636635834\n",
      "prediction: 0.9990478925633601\n",
      "prediction: -0.0008649508751839268\n",
      "**********Error: 5.4538113247954646e-05\n",
      "prediction: -0.0006919607001471418\n",
      "prediction: 0.9993940052082213\n",
      "prediction: -0.004982372239621349\n",
      "prediction: 1.0045028445492206\n",
      "prediction: 0.9991128724806949\n",
      "prediction: -0.0008065880148913126\n",
      "**********Error: 4.738326092808054e-05\n",
      "prediction: -0.0006452704119130504\n",
      "prediction: 0.9994354838272363\n",
      "prediction: -0.004644069258693961\n",
      "prediction: 1.0041970985340982\n",
      "prediction: 0.9991733742808387\n",
      "prediction: -0.0007521149212881975\n",
      "**********Error: 4.1167054732681075e-05\n",
      "prediction: -0.0006016919370305579\n",
      "prediction: 0.9994740801105029\n",
      "prediction: -0.004328736939536672\n",
      "prediction: 1.003912113161218\n",
      "prediction: 0.9992297151501125\n",
      "prediction: -0.0007012820139759334\n",
      "**********Error: 3.5766353008233724e-05\n",
      "prediction: -0.0005610256111807468\n",
      "prediction: 0.9995100028826056\n",
      "prediction: -0.004034815602460957\n",
      "prediction: 1.0036464786915864\n",
      "prediction: 0.9992821881280134\n",
      "prediction: -0.0006538537680776833\n",
      "**********Error: 3.1074169339105944e-05\n",
      "prediction: -0.0005230830144621465\n",
      "prediction: 0.9995434441806647\n",
      "prediction: -0.003760851463987323\n",
      "prediction: 1.0033988811252816\n",
      "prediction: 0.9993310642658743\n",
      "prediction: -0.0006096083348812037\n",
      "**********Error: 2.699755303250612e-05\n",
      "prediction: -0.0004876866679049633\n",
      "prediction: 0.9995745809129779\n",
      "prediction: -0.0035054894477233546\n",
      "prediction: 1.0031680956972564\n",
      "prediction: 0.9993765945357034\n",
      "prediction: -0.0005683370738710442\n",
      "**********Error: 2.3455747703180456e-05\n",
      "prediction: -0.0004546696590968357\n",
      "prediction: 0.9996035763018596\n",
      "prediction: -0.0032674664831361683\n",
      "prediction: 1.002952980815474\n",
      "prediction: 0.9994190115267065\n",
      "prediction: -0.0005298440249152671\n",
      "**********Error: 2.0378591459164655e-05\n",
      "prediction: -0.0004238752199322137\n",
      "prediction: 0.9996305811458499\n",
      "prediction: -0.0030456052591408492\n",
      "prediction: 1.002752472411204\n",
      "prediction: 0.9994585309603531\n",
      "prediction: -0.0004939453428927892\n",
      "**********Error: 1.7705126983481456e-05\n",
      "prediction: -0.0003951562743142313\n",
      "prediction: 0.9996557349300033\n",
      "prediction: -0.0028388084016620985\n",
      "prediction: 1.0025655786733791\n",
      "prediction: 0.9994953530494929\n",
      "prediction: -0.00046046871191061803\n",
      "**********Error: 1.5382393969499723e-05\n",
      "prediction: -0.0003683749695284947\n",
      "prediction: 0.9996791668077383\n",
      "prediction: -0.0026460530464130073\n",
      "prediction: 1.0023913751408484\n",
      "prediction: 0.9995296637226623\n",
      "prediction: -0.00042925275219123354\n",
      "**********Error: 1.3364379983174972e-05\n",
      "prediction: -0.0003434022017529872\n",
      "prediction: 0.9997009964735243\n",
      "prediction: -0.0024663857800807827\n",
      "prediction: 1.0022290001281535\n",
      "prediction: 0.9995616357311968\n",
      "prediction: -0.0004001464294971272\n",
      "**********Error: 1.1611108965709471e-05\n",
      "prediction: -0.00032011714359770184\n",
      "prediction: 0.9997213349422669\n",
      "prediction: -0.002298917924924946\n",
      "prediction: 1.002077650462126\n",
      "prediction: 0.9995914296538807\n",
      "prediction: -0.00037300847442563504\n",
      "**********Error: 1.0087849318061723e-05\n",
      "prediction: -0.00029840677954050786\n",
      "prediction: 0.9997402852485012\n",
      "prediction: -0.002142821143486634\n",
      "prediction: 1.001936577508154\n",
      "prediction: 0.9996191948115187\n",
      "prediction: -0.00034770681691651895\n",
      "**********Error: 8.764425878387226e-06\n",
      "prediction: -0.00027816545353321525\n",
      "prediction: 0.9997579430762599\n",
      "prediction: -0.0019973233416862475\n",
      "prediction: 1.0018050834664103\n",
      "prediction: 0.9996450701018945\n",
      "prediction: -0.00032411803975544327\n",
      "**********Error: 7.614622162086441e-06\n",
      "prediction: -0.0002592944318043546\n",
      "prediction: 0.9997743973286716\n",
      "prediction: -0.0018617048500592804\n",
      "prediction: 1.0016825179196918\n",
      "prediction: 0.9996691847640048\n",
      "prediction: -0.0003021268536435441\n",
      "**********Error: 6.615661022552519e-06\n",
      "prediction: -0.00024170148291483527\n",
      "prediction: 0.9997897306448598\n",
      "prediction: -0.0017352948642531461\n",
      "prediction: 1.0015682746157484\n",
      "prediction: 0.9996916590791635\n",
      "prediction: -0.000281625595458552\n",
      "**********Error: 5.7477534443380936e-06\n",
      "prediction: -0.0002253004763668417\n",
      "prediction: 0.9998040198705133\n",
      "prediction: -0.0016174681271878026\n",
      "prediction: 1.0014617884681725\n",
      "prediction: 0.9997126050154949\n",
      "prediction: -0.00026251375060999823\n",
      "**********Error: 4.993706530333221e-06\n",
      "prediction: -0.0002100110004879987\n",
      "prediction: 0.9998173364875058\n",
      "prediction: -0.0015076418364765366\n",
      "prediction: 1.0013625327609876\n",
      "prediction: 0.9997321268214547\n",
      "prediction: -0.00024469749983632716\n",
      "**********Error: 4.338582917191704e-06\n",
      "prediction: -0.00019575799986906164\n",
      "prediction: 0.9998297470071343\n",
      "prediction: -0.001405272761816015\n",
      "prediction: 1.0012700165430963\n",
      "prediction: 0.9997503215732699\n",
      "prediction: -0.00022808929037334072\n",
      "**********Error: 3.769404872090232e-06\n",
      "prediction: -0.00018247143229867258\n",
      "prediction: 0.9998413133308831\n",
      "prediction: -0.0013098545580921487\n",
      "prediction: 1.0011837821996805\n",
      "prediction: 0.9997672796805794\n",
      "prediction: -0.0002126074311120808\n",
      "**********Error: 3.2748972090310515e-06\n",
      "prediction: -0.0001700859448896645\n",
      "prediction: 0.9998520930820637\n",
      "prediction: -0.001220915260915123\n",
      "prediction: 1.0011034031885395\n",
      "prediction: 0.9997830853540344\n",
      "prediction: -0.000198175711137929\n",
      "**********Error: 2.8452639319564694e-06\n",
      "prediction: -0.0001585405689103433\n",
      "prediction: 0.9998621399112323\n",
      "prediction: -0.0011380149521994024\n",
      "prediction: 1.0010284819301534\n",
      "prediction: 0.9997978170381749\n",
      "prediction: -0.00018472304087973192\n",
      "**********Error: 2.4719941800310695e-06\n",
      "prediction: -0.00014777843270378556\n",
      "prediction: 0.9998715037778984\n",
      "prediction: -0.0010607435842437765\n",
      "prediction: 1.0009586478410342\n",
      "prediction: 0.9998115478125363\n",
      "prediction: -0.00017218311498895305\n",
      "**********Error: 2.147693630947722e-06\n",
      "prediction: -0.00013774649199116244\n",
      "prediction: 0.9998802312107271\n",
      "prediction: -0.0009887189515511488\n",
      "prediction: 1.0008935555006224\n",
      "prediction: 0.9998243457636123\n",
      "prediction: -0.0001604940959962451\n",
      "**********Error: 1.8659380223993393e-06\n",
      "prediction: -0.00012839527679699614\n",
      "prediction: 0.9998883655481691\n",
      "prediction: -0.0009215848003570931\n",
      "prediction: 1.0008328829426736\n",
      "prediction: 0.9998362743300363\n",
      "prediction: -0.00014959831775714148\n",
      "**********Error: 1.6211458900660326e-06\n"
     ]
    }
   ],
   "source": [
    "for interation in range(40):\n",
    "    error_for_all_lights = 0\n",
    "    for row_index in range(len(walk_vs_stop)):\n",
    "        input = streetlights[row_index]\n",
    "        goal_prediction = walk_vs_stop[row_index]\n",
    "        \n",
    "        prediction = input.dot(weight)\n",
    "        \n",
    "        delta = prediction - goal_prediction\n",
    "        error = delta ** 2\n",
    "        error_for_all_lights += error\n",
    "        \n",
    "        weight -= alpha * (input * delta)\n",
    "        print(\"prediction: \" + str(prediction))\n",
    "    print(\"*\" * 10 + \"Error: \" + str(error_for_all_lights))"
   ]
  },
  {
   "cell_type": "code",
   "execution_count": 25,
   "metadata": {},
   "outputs": [
    {
     "name": "stdout",
     "output_type": "stream",
     "text": [
      "[ 7.61703562e-04  1.00076536e+00 -8.81382216e-04]\n"
     ]
    }
   ],
   "source": [
    "print(weight)"
   ]
  },
  {
   "cell_type": "code",
   "execution_count": 2,
   "metadata": {},
   "outputs": [],
   "source": [
    "import numpy as np\n",
    "np.random.seed(1)"
   ]
  },
  {
   "cell_type": "code",
   "execution_count": 3,
   "metadata": {},
   "outputs": [],
   "source": [
    "def relu(x):\n",
    "    return (x > 0) * x"
   ]
  },
  {
   "cell_type": "code",
   "execution_count": 4,
   "metadata": {},
   "outputs": [
    {
     "name": "stdout",
     "output_type": "stream",
     "text": [
      "0\n"
     ]
    }
   ],
   "source": [
    "print(relu(-5))"
   ]
  },
  {
   "cell_type": "code",
   "execution_count": 5,
   "metadata": {},
   "outputs": [],
   "source": [
    "x = 5\n",
    "y = (x > 0) * x"
   ]
  },
  {
   "cell_type": "code",
   "execution_count": 7,
   "metadata": {},
   "outputs": [
    {
     "name": "stdout",
     "output_type": "stream",
     "text": [
      "True\n"
     ]
    }
   ],
   "source": [
    "z = (x > 0)\n",
    "print(z)"
   ]
  },
  {
   "cell_type": "code",
   "execution_count": 8,
   "metadata": {},
   "outputs": [],
   "source": [
    "alpha = 0.2\n",
    "hidden_size = 4"
   ]
  },
  {
   "cell_type": "code",
   "execution_count": 9,
   "metadata": {},
   "outputs": [],
   "source": [
    "streetlights = ([[1, 0, 1],\n",
    "                [0, 1, 1],\n",
    "                [0, 0, 1],\n",
    "                [1, 1, 1]])"
   ]
  },
  {
   "cell_type": "code",
   "execution_count": 11,
   "metadata": {},
   "outputs": [],
   "source": [
    "walk_vs_stop = np.array([1, 1, 0, 0]).T\n",
    "\n",
    "weight_0_1 = 2 * np.random.random((3, hidden_size)) - 1\n",
    "weight_1_2 = 2 * np.random.random((hidden_size, 1)) - 1"
   ]
  },
  {
   "cell_type": "code",
   "execution_count": 13,
   "metadata": {},
   "outputs": [
    {
     "name": "stdout",
     "output_type": "stream",
     "text": [
      "[[0.4173048  0.55868983 0.14038694 0.19810149]\n",
      " [0.80074457 0.96826158 0.31342418 0.69232262]\n",
      " [0.87638915 0.89460666 0.08504421 0.03905478]]\n"
     ]
    }
   ],
   "source": [
    "print(np.random.random((3, hidden_size)))"
   ]
  },
  {
   "cell_type": "code",
   "execution_count": 19,
   "metadata": {},
   "outputs": [
    {
     "name": "stdout",
     "output_type": "stream",
     "text": [
      "[1, 0, 1]\n",
      "[[-0.16595599  0.44064899 -0.99977125 -0.39533485]\n",
      " [-0.70648822 -0.81532281 -0.62747958 -0.30887855]\n",
      " [-0.20646505  0.07763347 -0.16161097  0.370439  ]]\n",
      "[-0.          0.51828245 -0.         -0.        ]\n",
      "[[-0.5910955 ]\n",
      " [ 0.75623487]\n",
      " [-0.94522481]\n",
      " [ 0.34093502]]\n",
      "[0.39194327]\n"
     ]
    }
   ],
   "source": [
    "layer_0 = streetlights[0]\n",
    "layer_1 = relu(np.dot(layer_0, weight_0_1))\n",
    "layer_2 = np.dot(layer_1, weight_1_2)\n",
    "\n",
    "print(layer_0)\n",
    "print(weight_0_1)\n",
    "print(layer_1)\n",
    "print(weight_1_2)\n",
    "print(layer_2)"
   ]
  },
  {
   "cell_type": "code",
   "execution_count": 22,
   "metadata": {},
   "outputs": [],
   "source": [
    "a = \"1 2 4\""
   ]
  },
  {
   "cell_type": "code",
   "execution_count": 23,
   "metadata": {},
   "outputs": [
    {
     "ename": "ValueError",
     "evalue": "invalid literal for int() with base 10: '1 2 4'",
     "output_type": "error",
     "traceback": [
      "\u001b[1;31m---------------------------------------------------------------------------\u001b[0m",
      "\u001b[1;31mValueError\u001b[0m                                Traceback (most recent call last)",
      "\u001b[1;32m<ipython-input-23-c783ea792008>\u001b[0m in \u001b[0;36m<module>\u001b[1;34m\u001b[0m\n\u001b[1;32m----> 1\u001b[1;33m \u001b[0mprint\u001b[0m\u001b[1;33m(\u001b[0m\u001b[0mint\u001b[0m\u001b[1;33m(\u001b[0m\u001b[0ma\u001b[0m\u001b[1;33m)\u001b[0m\u001b[1;33m)\u001b[0m\u001b[1;33m\u001b[0m\u001b[1;33m\u001b[0m\u001b[0m\n\u001b[0m",
      "\u001b[1;31mValueError\u001b[0m: invalid literal for int() with base 10: '1 2 4'"
     ]
    }
   ],
   "source": [
    "print(int(a))"
   ]
  },
  {
   "cell_type": "code",
   "execution_count": null,
   "metadata": {},
   "outputs": [],
   "source": []
  }
 ],
 "metadata": {
  "kernelspec": {
   "display_name": "Python 3",
   "language": "python",
   "name": "python3"
  },
  "language_info": {
   "codemirror_mode": {
    "name": "ipython",
    "version": 3
   },
   "file_extension": ".py",
   "mimetype": "text/x-python",
   "name": "python",
   "nbconvert_exporter": "python",
   "pygments_lexer": "ipython3",
   "version": "3.8.6"
  }
 },
 "nbformat": 4,
 "nbformat_minor": 4
}
